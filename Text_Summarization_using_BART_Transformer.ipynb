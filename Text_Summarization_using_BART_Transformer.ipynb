{
 "nbformat": 4,
 "nbformat_minor": 0,
 "metadata": {
  "colab": {
   "provenance": [],
   "gpuType": "T4"
  },
  "kernelspec": {
   "name": "python3",
   "display_name": "Python 3"
  },
  "language_info": {
   "name": "python"
  },
  "accelerator": "GPU"
 },
 "cells": [
  {
   "cell_type": "code",
   "source": [
    "!pip install --upgrade datasets"
   ],
   "metadata": {
    "colab": {
     "base_uri": "https://localhost:8080/"
    },
    "collapsed": true,
    "id": "w7VBu-SDNrRh",
    "outputId": "e7abf1f3-6ef0-4e4f-bf59-2dca90bb2b65"
   },
   "execution_count": 1,
   "outputs": [
    {
     "output_type": "stream",
     "name": "stdout",
     "text": [
      "Requirement already satisfied: datasets in /usr/local/lib/python3.11/dist-packages (3.6.0)\n",
      "Requirement already satisfied: filelock in /usr/local/lib/python3.11/dist-packages (from datasets) (3.18.0)\n",
      "Requirement already satisfied: numpy>=1.17 in /usr/local/lib/python3.11/dist-packages (from datasets) (2.0.2)\n",
      "Requirement already satisfied: pyarrow>=15.0.0 in /usr/local/lib/python3.11/dist-packages (from datasets) (18.1.0)\n",
      "Requirement already satisfied: dill<0.3.9,>=0.3.0 in /usr/local/lib/python3.11/dist-packages (from datasets) (0.3.7)\n",
      "Requirement already satisfied: pandas in /usr/local/lib/python3.11/dist-packages (from datasets) (2.2.2)\n",
      "Requirement already satisfied: requests>=2.32.2 in /usr/local/lib/python3.11/dist-packages (from datasets) (2.32.3)\n",
      "Requirement already satisfied: tqdm>=4.66.3 in /usr/local/lib/python3.11/dist-packages (from datasets) (4.67.1)\n",
      "Requirement already satisfied: xxhash in /usr/local/lib/python3.11/dist-packages (from datasets) (3.5.0)\n",
      "Requirement already satisfied: multiprocess<0.70.17 in /usr/local/lib/python3.11/dist-packages (from datasets) (0.70.15)\n",
      "Requirement already satisfied: fsspec<=2025.3.0,>=2023.1.0 in /usr/local/lib/python3.11/dist-packages (from fsspec[http]<=2025.3.0,>=2023.1.0->datasets) (2025.3.0)\n",
      "Requirement already satisfied: huggingface-hub>=0.24.0 in /usr/local/lib/python3.11/dist-packages (from datasets) (0.31.1)\n",
      "Requirement already satisfied: packaging in /usr/local/lib/python3.11/dist-packages (from datasets) (24.2)\n",
      "Requirement already satisfied: pyyaml>=5.1 in /usr/local/lib/python3.11/dist-packages (from datasets) (6.0.2)\n",
      "Requirement already satisfied: aiohttp!=4.0.0a0,!=4.0.0a1 in /usr/local/lib/python3.11/dist-packages (from fsspec[http]<=2025.3.0,>=2023.1.0->datasets) (3.11.15)\n",
      "Requirement already satisfied: typing-extensions>=3.7.4.3 in /usr/local/lib/python3.11/dist-packages (from huggingface-hub>=0.24.0->datasets) (4.13.2)\n",
      "Requirement already satisfied: hf-xet<2.0.0,>=1.1.0 in /usr/local/lib/python3.11/dist-packages (from huggingface-hub>=0.24.0->datasets) (1.1.0)\n",
      "Requirement already satisfied: charset-normalizer<4,>=2 in /usr/local/lib/python3.11/dist-packages (from requests>=2.32.2->datasets) (3.4.2)\n",
      "Requirement already satisfied: idna<4,>=2.5 in /usr/local/lib/python3.11/dist-packages (from requests>=2.32.2->datasets) (3.10)\n",
      "Requirement already satisfied: urllib3<3,>=1.21.1 in /usr/local/lib/python3.11/dist-packages (from requests>=2.32.2->datasets) (2.4.0)\n",
      "Requirement already satisfied: certifi>=2017.4.17 in /usr/local/lib/python3.11/dist-packages (from requests>=2.32.2->datasets) (2025.4.26)\n",
      "Requirement already satisfied: python-dateutil>=2.8.2 in /usr/local/lib/python3.11/dist-packages (from pandas->datasets) (2.9.0.post0)\n",
      "Requirement already satisfied: pytz>=2020.1 in /usr/local/lib/python3.11/dist-packages (from pandas->datasets) (2025.2)\n",
      "Requirement already satisfied: tzdata>=2022.7 in /usr/local/lib/python3.11/dist-packages (from pandas->datasets) (2025.2)\n",
      "Requirement already satisfied: aiohappyeyeballs>=2.3.0 in /usr/local/lib/python3.11/dist-packages (from aiohttp!=4.0.0a0,!=4.0.0a1->fsspec[http]<=2025.3.0,>=2023.1.0->datasets) (2.6.1)\n",
      "Requirement already satisfied: aiosignal>=1.1.2 in /usr/local/lib/python3.11/dist-packages (from aiohttp!=4.0.0a0,!=4.0.0a1->fsspec[http]<=2025.3.0,>=2023.1.0->datasets) (1.3.2)\n",
      "Requirement already satisfied: attrs>=17.3.0 in /usr/local/lib/python3.11/dist-packages (from aiohttp!=4.0.0a0,!=4.0.0a1->fsspec[http]<=2025.3.0,>=2023.1.0->datasets) (25.3.0)\n",
      "Requirement already satisfied: frozenlist>=1.1.1 in /usr/local/lib/python3.11/dist-packages (from aiohttp!=4.0.0a0,!=4.0.0a1->fsspec[http]<=2025.3.0,>=2023.1.0->datasets) (1.6.0)\n",
      "Requirement already satisfied: multidict<7.0,>=4.5 in /usr/local/lib/python3.11/dist-packages (from aiohttp!=4.0.0a0,!=4.0.0a1->fsspec[http]<=2025.3.0,>=2023.1.0->datasets) (6.4.3)\n",
      "Requirement already satisfied: propcache>=0.2.0 in /usr/local/lib/python3.11/dist-packages (from aiohttp!=4.0.0a0,!=4.0.0a1->fsspec[http]<=2025.3.0,>=2023.1.0->datasets) (0.3.1)\n",
      "Requirement already satisfied: yarl<2.0,>=1.17.0 in /usr/local/lib/python3.11/dist-packages (from aiohttp!=4.0.0a0,!=4.0.0a1->fsspec[http]<=2025.3.0,>=2023.1.0->datasets) (1.20.0)\n",
      "Requirement already satisfied: six>=1.5 in /usr/local/lib/python3.11/dist-packages (from python-dateutil>=2.8.2->pandas->datasets) (1.17.0)\n"
     ]
    }
   ]
  },
  {
   "cell_type": "code",
   "execution_count": 2,
   "metadata": {
    "colab": {
     "base_uri": "https://localhost:8080/",
     "height": 365,
     "referenced_widgets": [
      "a3b0269693864f9eac246a2f2df40b0f",
      "46f651a42eaa4ebe9f002c499c4e0dc2",
      "9807f1ad62e24cf3b8a7988a88711c70",
      "a74d7770273549bfb2cc8e98e1121f95",
      "346c24bbb4ea418e8747d5bebca8a6a4",
      "2e262af63c5147468eee1b69357c347a",
      "441daf1e39214ee390a65df3f69e45bd",
      "9186918f025b468cad3c97d15176f11e",
      "7a02a5aa027a41159229ef1db0d3741c",
      "ffdff25a792a434280966ebfee9eaf27",
      "c0c4740251a74ea2903080db8c3c5fed",
      "1287c8ebdd8042f7b357cb1fb51dab1d",
      "5ad27172f677402bb48fd0d426c985fa",
      "fcf6bc1aaa4c4942a66328d858d84eb9",
      "372df17f241249e3bb6c75d7bb3d5d83",
      "e855e69cfafd48f79e290075daadf104",
      "2ca937eb0b154ca29efacbb45f919411",
      "f7f1463d41f747cc938ac3940eeb71ea",
      "18508b6aa1ef4b2698091d9cfd02dd88",
      "cadfbf34ec384cbbb9252685a9f80549",
      "843f13d87ab044f7b8e4695a73066fba",
      "eb11a7f98db14f809848b11280cfe110",
      "b190d3935f1e45989638233888009166",
      "76de8af83af84118b8395194587bb039",
      "ee01ff9e4205427683bb5376d4fed3ea",
      "6479bfbc489043b59520d4c8242d7fc2",
      "f8176ec6a0d3490097380df1d591d8a5",
      "34628d331ec24b1bb5d499a48ede46eb",
      "55e1881a92db4386aa50c335319bdd31",
      "bc16299491c14eeba132b3e748be0fb3",
      "c94edf84c2a7465896f96230c58ff38c",
      "7518bdbd80a34df7b5d8f75ef8ea5ccb",
      "4e4195585910493783d425161e4f110d",
      "5882d0be0efe4b1b96013afafb3430fd",
      "225b42ad0ab741e885d44d42497ff6b8",
      "3b8be489479e46e3adaca91f5ceb6369",
      "b139685010894bbfbd0d9f1a9e993721",
      "d837d1c047b34694b803baf573dba5ca",
      "db08dcf32aef462892ebd2b1f6d3a70a",
      "f7fdb1195dfd455da805918fed67b633",
      "afa9ce8ee78c47e289f91f8518b49b1b",
      "5be47aa4f1734a5691d7872af133bbbd",
      "01551d41959046798ffb29db925cd703",
      "b23a45110f9f4796b481ebb4a00ccf1b",
      "66a92b447a7b464aab45754454194f5e",
      "2106a07b0464428f87aff934c530f3f0",
      "4f299cae86154d06900b94dd9129b2e9",
      "1b2ceec49149439287634a0e423279bb",
      "9ec852410cbf40d399ef4bf6c9bf00e4",
      "46df152734af40478c6764843cf20049",
      "d08bcbc96275422a99b34b4b5efb1089",
      "3d673199527b42e7ba6f3dd30302bf56",
      "a5f06e9033ac48fc918f084b0bbe59fa",
      "5b6c456a32d7413b836e8d634cb3721c",
      "2705687dccf442b19f737c83df5b6ae0",
      "4e89d8c9d4954822ab3905291a6b9794",
      "d6dd2b7cbce44720a2d80e2765cd3109",
      "665a25637ed9445eaa0a9fad6f929ee7",
      "f7865573bc2e4f77a3bc1ffb891c6eab",
      "163c8cb882b04b6c81b15a0a45014071",
      "0e28265cf11a45ecabe1edf6f84a14f1",
      "a35fa4a1b3f34477b83852b4a11fe1b5",
      "21ac9c11933f49fab090f7059c1438f5",
      "315379a38c4c41958f4fe2e20f1ad4d9",
      "ea2b0dce09ac4336985c52deecbde137",
      "36cf34f85c474d1cb75e640ab4eb76f2",
      "16750e10105147058117962557b280ba",
      "79e91ea3bce146d181bf5d066b328a13",
      "ad315ac8ef904d269f131850800b9e7a",
      "59d46bccf22f463c8431646d08f13f48",
      "5fc77762b2d443129d61fa23e74c8bc6",
      "ae088ab9d63244f799e1a91e7b2e7494",
      "06377f81ef34407fa789aa1e09904fb6",
      "05f9d1ac1c4440a8819ec88e2e0551c3",
      "c3155a731e0241108a0e007790d89854",
      "2795d8c963214b088a03b1e2faab0aa3",
      "fdd375e8200c44a88a95941a853cd1c6"
     ]
    },
    "collapsed": true,
    "id": "rN3HD4biMUzt",
    "outputId": "f43b73e6-dc7d-4cb5-ef6d-8f655b43eae1"
   },
   "outputs": [
    {
     "output_type": "stream",
     "name": "stderr",
     "text": [
      "/usr/local/lib/python3.11/dist-packages/huggingface_hub/utils/_auth.py:94: UserWarning: \n",
      "The secret `HF_TOKEN` does not exist in your Colab secrets.\n",
      "To authenticate with the Hugging Face Hub, create a token in your settings tab (https://huggingface.co/settings/tokens), set it as secret in your Google Colab and restart your session.\n",
      "You will be able to reuse this secret in all of your notebooks.\n",
      "Please note that authentication is recommended but still optional to access public models or datasets.\n",
      "  warnings.warn(\n"
     ]
    },
    {
     "output_type": "display_data",
     "data": {
      "text/plain": [
       "README.md:   0%|          | 0.00/4.65k [00:00<?, ?B/s]"
      ],
      "application/vnd.jupyter.widget-view+json": {
       "version_major": 2,
       "version_minor": 0,
       "model_id": "a3b0269693864f9eac246a2f2df40b0f"
      }
     },
     "metadata": {}
    },
    {
     "output_type": "display_data",
     "data": {
      "text/plain": [
       "train.csv:   0%|          | 0.00/11.3M [00:00<?, ?B/s]"
      ],
      "application/vnd.jupyter.widget-view+json": {
       "version_major": 2,
       "version_minor": 0,
       "model_id": "1287c8ebdd8042f7b357cb1fb51dab1d"
      }
     },
     "metadata": {}
    },
    {
     "output_type": "display_data",
     "data": {
      "text/plain": [
       "validation.csv:   0%|          | 0.00/442k [00:00<?, ?B/s]"
      ],
      "application/vnd.jupyter.widget-view+json": {
       "version_major": 2,
       "version_minor": 0,
       "model_id": "b190d3935f1e45989638233888009166"
      }
     },
     "metadata": {}
    },
    {
     "output_type": "display_data",
     "data": {
      "text/plain": [
       "test.csv:   0%|          | 0.00/1.35M [00:00<?, ?B/s]"
      ],
      "application/vnd.jupyter.widget-view+json": {
       "version_major": 2,
       "version_minor": 0,
       "model_id": "5882d0be0efe4b1b96013afafb3430fd"
      }
     },
     "metadata": {}
    },
    {
     "output_type": "display_data",
     "data": {
      "text/plain": [
       "Generating train split:   0%|          | 0/12460 [00:00<?, ? examples/s]"
      ],
      "application/vnd.jupyter.widget-view+json": {
       "version_major": 2,
       "version_minor": 0,
       "model_id": "66a92b447a7b464aab45754454194f5e"
      }
     },
     "metadata": {}
    },
    {
     "output_type": "display_data",
     "data": {
      "text/plain": [
       "Generating validation split:   0%|          | 0/500 [00:00<?, ? examples/s]"
      ],
      "application/vnd.jupyter.widget-view+json": {
       "version_major": 2,
       "version_minor": 0,
       "model_id": "4e89d8c9d4954822ab3905291a6b9794"
      }
     },
     "metadata": {}
    },
    {
     "output_type": "display_data",
     "data": {
      "text/plain": [
       "Generating test split:   0%|          | 0/1500 [00:00<?, ? examples/s]"
      ],
      "application/vnd.jupyter.widget-view+json": {
       "version_major": 2,
       "version_minor": 0,
       "model_id": "16750e10105147058117962557b280ba"
      }
     },
     "metadata": {}
    }
   ],
   "source": [
    "from datasets import load_dataset\n",
    "\n",
    "# Clear the cache\n",
    "import shutil\n",
    "shutil.rmtree('/root/.cache/huggingface/datasets')\n",
    "\n",
    "# Try loading the dataset again\n",
    "ds = load_dataset(\"knkarthick/dialogsum\")\n"
   ]
  },
  {
   "cell_type": "code",
   "source": [
    "ds"
   ],
   "metadata": {
    "colab": {
     "base_uri": "https://localhost:8080/"
    },
    "id": "gEjRp6h5NwG1",
    "outputId": "0eb806b5-24fd-4037-fa91-63e53ac17a8e"
   },
   "execution_count": 3,
   "outputs": [
    {
     "output_type": "execute_result",
     "data": {
      "text/plain": [
       "DatasetDict({\n",
       "    train: Dataset({\n",
       "        features: ['id', 'dialogue', 'summary', 'topic'],\n",
       "        num_rows: 12460\n",
       "    })\n",
       "    validation: Dataset({\n",
       "        features: ['id', 'dialogue', 'summary', 'topic'],\n",
       "        num_rows: 500\n",
       "    })\n",
       "    test: Dataset({\n",
       "        features: ['id', 'dialogue', 'summary', 'topic'],\n",
       "        num_rows: 1500\n",
       "    })\n",
       "})"
      ]
     },
     "metadata": {},
     "execution_count": 3
    }
   ]
  },
  {
   "cell_type": "code",
   "source": [
    "ds['train'][1]['dialogue']"
   ],
   "metadata": {
    "colab": {
     "base_uri": "https://localhost:8080/",
     "height": 192
    },
    "id": "gJNxBWSTN6Qr",
    "outputId": "129c9b83-2f3e-4b6c-9d0c-7f1281170528"
   },
   "execution_count": 4,
   "outputs": [
    {
     "output_type": "execute_result",
     "data": {
      "text/plain": [
       "\"#Person1#: Hello Mrs. Parker, how have you been?\\n#Person2#: Hello Dr. Peters. Just fine thank you. Ricky and I are here for his vaccines.\\n#Person1#: Very well. Let's see, according to his vaccination record, Ricky has received his Polio, Tetanus and Hepatitis B shots. He is 14 months old, so he is due for Hepatitis A, Chickenpox and Measles shots.\\n#Person2#: What about Rubella and Mumps?\\n#Person1#: Well, I can only give him these for now, and after a couple of weeks I can administer the rest.\\n#Person2#: OK, great. Doctor, I think I also may need a Tetanus booster. Last time I got it was maybe fifteen years ago!\\n#Person1#: We will check our records and I'll have the nurse administer and the booster as well. Now, please hold Ricky's arm tight, this may sting a little.\""
      ],
      "application/vnd.google.colaboratory.intrinsic+json": {
       "type": "string"
      }
     },
     "metadata": {},
     "execution_count": 4
    }
   ]
  },
  {
   "cell_type": "code",
   "source": [
    "ds['train'][1]['summary']"
   ],
   "metadata": {
    "colab": {
     "base_uri": "https://localhost:8080/",
     "height": 53
    },
    "id": "w_LqcL0oOKrh",
    "outputId": "e3d37623-15cf-478c-8a9b-ecce0922c007"
   },
   "execution_count": 5,
   "outputs": [
    {
     "output_type": "execute_result",
     "data": {
      "text/plain": [
       "'Mrs Parker takes Ricky for his vaccines. Dr. Peters checks the record and then gives Ricky a vaccine.'"
      ],
      "application/vnd.google.colaboratory.intrinsic+json": {
       "type": "string"
      }
     },
     "metadata": {},
     "execution_count": 5
    }
   ]
  },
  {
   "cell_type": "markdown",
   "source": [
    "**without fine - tuning**"
   ],
   "metadata": {
    "id": "j1Rm56r8RRD8"
   }
  },
  {
   "cell_type": "code",
   "source": [
    "!pip install transformers"
   ],
   "metadata": {
    "colab": {
     "base_uri": "https://localhost:8080/"
    },
    "collapsed": true,
    "id": "UX8ZUUZDORyF",
    "outputId": "1173fad6-e55f-4279-865e-d52695f77ad8"
   },
   "execution_count": 6,
   "outputs": [
    {
     "output_type": "stream",
     "name": "stdout",
     "text": [
      "Requirement already satisfied: transformers in /usr/local/lib/python3.11/dist-packages (4.51.3)\n",
      "Requirement already satisfied: filelock in /usr/local/lib/python3.11/dist-packages (from transformers) (3.18.0)\n",
      "Requirement already satisfied: huggingface-hub<1.0,>=0.30.0 in /usr/local/lib/python3.11/dist-packages (from transformers) (0.31.1)\n",
      "Requirement already satisfied: numpy>=1.17 in /usr/local/lib/python3.11/dist-packages (from transformers) (2.0.2)\n",
      "Requirement already satisfied: packaging>=20.0 in /usr/local/lib/python3.11/dist-packages (from transformers) (24.2)\n",
      "Requirement already satisfied: pyyaml>=5.1 in /usr/local/lib/python3.11/dist-packages (from transformers) (6.0.2)\n",
      "Requirement already satisfied: regex!=2019.12.17 in /usr/local/lib/python3.11/dist-packages (from transformers) (2024.11.6)\n",
      "Requirement already satisfied: requests in /usr/local/lib/python3.11/dist-packages (from transformers) (2.32.3)\n",
      "Requirement already satisfied: tokenizers<0.22,>=0.21 in /usr/local/lib/python3.11/dist-packages (from transformers) (0.21.1)\n",
      "Requirement already satisfied: safetensors>=0.4.3 in /usr/local/lib/python3.11/dist-packages (from transformers) (0.5.3)\n",
      "Requirement already satisfied: tqdm>=4.27 in /usr/local/lib/python3.11/dist-packages (from transformers) (4.67.1)\n",
      "Requirement already satisfied: fsspec>=2023.5.0 in /usr/local/lib/python3.11/dist-packages (from huggingface-hub<1.0,>=0.30.0->transformers) (2025.3.0)\n",
      "Requirement already satisfied: typing-extensions>=3.7.4.3 in /usr/local/lib/python3.11/dist-packages (from huggingface-hub<1.0,>=0.30.0->transformers) (4.13.2)\n",
      "Requirement already satisfied: hf-xet<2.0.0,>=1.1.0 in /usr/local/lib/python3.11/dist-packages (from huggingface-hub<1.0,>=0.30.0->transformers) (1.1.0)\n",
      "Requirement already satisfied: charset-normalizer<4,>=2 in /usr/local/lib/python3.11/dist-packages (from requests->transformers) (3.4.2)\n",
      "Requirement already satisfied: idna<4,>=2.5 in /usr/local/lib/python3.11/dist-packages (from requests->transformers) (3.10)\n",
      "Requirement already satisfied: urllib3<3,>=1.21.1 in /usr/local/lib/python3.11/dist-packages (from requests->transformers) (2.4.0)\n",
      "Requirement already satisfied: certifi>=2017.4.17 in /usr/local/lib/python3.11/dist-packages (from requests->transformers) (2025.4.26)\n"
     ]
    }
   ]
  },
  {
   "cell_type": "code",
   "source": [
    "from transformers import pipeline\n",
    "\n",
    "pipe = pipeline(\"summarization\", model=\"facebook/bart-large-cnn\")"
   ],
   "metadata": {
    "colab": {
     "base_uri": "https://localhost:8080/",
     "height": 226,
     "referenced_widgets": [
      "5b498b015c724554a8173c14452f6afb",
      "2afc1e0a3fb7463cad3b6e295479946d",
      "a52eb56b7c2d400b968b21fabddecd65",
      "bef1b83282dd46a48b25aad210e54bc1",
      "ff8c3a71671b452b839b7ab6396e36fb",
      "bfc6131d1b474be5ab78120229a12692",
      "b8d7c57e1d2f44dc988b6db23e750a21",
      "1775a07d12f7427b99a7e64e0622af93",
      "c5f706b7fa2e4421bee4a38b2433e183",
      "c46ddeb2a2b14f02ba795b4aaf234a65",
      "2a1f9685ee554dd480bd70af2359ee50",
      "3f24ce4070fd46979a969843180900b5",
      "276e5ac63c9c4fcb85785c671974ec60",
      "d714b9ecaf6d4cf3835757b4756ef03f",
      "8a02329adc2c4b6b8daf6f675baa1986",
      "d14f1633af66493995d4f79f27876637",
      "6b09b3475017400daf147f05c0d206e3",
      "49697f4f63374053a972198e425748f0",
      "c5b66267a179422696b6e3d332ad7a40",
      "8ad2106389574bc6a927f444bb007d2f",
      "75f29a567b9b477eb693b95350b41b13",
      "1f463dbe6c784e3aacc2e1e2a71124f2",
      "4ab14bec56514a6eb420f5c465a1a2c5",
      "040e7032c5d744cc9e0710723be54f6a",
      "ffc53fcb40924bcb881ff512588dd379",
      "2b90650e7c9443f09581a5c1e2a1456b",
      "d36b002f27d44c1da0de42eb84ba2fb8",
      "dfee30362aef4bb781a6311812571b00",
      "8df13207813247a8ae69a9efcc6b6b2e",
      "a68a165fc2ed4577bbc38939aeed33c3",
      "60c65c82eb8c403f8e32bb21b169892c",
      "04a259e4fe464bc0a3208c1f7c8a7cb1",
      "85d00d1951b94148a90a9020f6d5fc5b",
      "4fb26b7e241e49888fe600f3cde3d659",
      "926cd26d92d74cb198427c6d994d9c3e",
      "faf1f6258f84424ba3a0d8c2d5b2f0e4",
      "6aa9ea998d4c4028bb0c26839fa7738c",
      "f9b669594ca843ff92e1687503706bfc",
      "6cbda3678d8b4dbc81b87d0944b0c30e",
      "0701377479f840fb884c554e01ad3342",
      "f1bfc81c370145adbca250a5ba25230a",
      "52b4184f9eab4a1b8fb62b265ba1b786",
      "f0f311ece8f64ee0b55a4c250291c9ff",
      "3758cf667bb94eecbf69e984b80e0919",
      "aaf6a5e0e89d45e3831e649c39a92578",
      "6bbdfb6c34d04e6fb2b1f5ded38e4f93",
      "e2620d63693f4fec8792c9a6e3fa44ed",
      "1e1096ff97844dcb831c4e308d4a0b76",
      "36ad63c69758453e9dbc64adb79514d4",
      "f91c58ba289943a6b7a0e6b30dd61413",
      "35ed24244868495ba8d7616bef3ee62c",
      "d4de560d0d814cbc8202cd88b54444fe",
      "c5d3f19d896d4fa3a8cbdeb3deac4e08",
      "4974d1ea23cd4de682c0a3f97365cecc",
      "dc15464fc2484c69af8f9bae17e385ae",
      "5589096655af4b97adc084658fca5dfb",
      "fee151a81dfe4e40924e6ac724f9775b",
      "be0a27f79fa24573996b6fd3f12d46ac",
      "c5d4f910b5704cfc86b317b536644843",
      "7f514d4b56654a8fb0524d75322dc575",
      "1a7f204a8d66409fa54000fa423ead94",
      "5ba03fcdd0e94dfab5427e7f63d50052",
      "3359b44ebe58491d9eb31b8ec9804c1e",
      "bd2849f2d2544972ab06fc22ce53e5cb",
      "5bd9485ab4c0453cb7cdd83fbb5cdc53",
      "48e83722b05c4ea39a6df341b4c9e94d"
     ]
    },
    "collapsed": true,
    "id": "m7y0IAFkRazY",
    "outputId": "1bacd9e8-accd-43d9-a7b5-708d0b1aa464"
   },
   "execution_count": 7,
   "outputs": [
    {
     "output_type": "display_data",
     "data": {
      "text/plain": [
       "config.json:   0%|          | 0.00/1.58k [00:00<?, ?B/s]"
      ],
      "application/vnd.jupyter.widget-view+json": {
       "version_major": 2,
       "version_minor": 0,
       "model_id": "5b498b015c724554a8173c14452f6afb"
      }
     },
     "metadata": {}
    },
    {
     "output_type": "display_data",
     "data": {
      "text/plain": [
       "model.safetensors:   0%|          | 0.00/1.63G [00:00<?, ?B/s]"
      ],
      "application/vnd.jupyter.widget-view+json": {
       "version_major": 2,
       "version_minor": 0,
       "model_id": "3f24ce4070fd46979a969843180900b5"
      }
     },
     "metadata": {}
    },
    {
     "output_type": "display_data",
     "data": {
      "text/plain": [
       "generation_config.json:   0%|          | 0.00/363 [00:00<?, ?B/s]"
      ],
      "application/vnd.jupyter.widget-view+json": {
       "version_major": 2,
       "version_minor": 0,
       "model_id": "4ab14bec56514a6eb420f5c465a1a2c5"
      }
     },
     "metadata": {}
    },
    {
     "output_type": "display_data",
     "data": {
      "text/plain": [
       "vocab.json:   0%|          | 0.00/899k [00:00<?, ?B/s]"
      ],
      "application/vnd.jupyter.widget-view+json": {
       "version_major": 2,
       "version_minor": 0,
       "model_id": "4fb26b7e241e49888fe600f3cde3d659"
      }
     },
     "metadata": {}
    },
    {
     "output_type": "display_data",
     "data": {
      "text/plain": [
       "merges.txt:   0%|          | 0.00/456k [00:00<?, ?B/s]"
      ],
      "application/vnd.jupyter.widget-view+json": {
       "version_major": 2,
       "version_minor": 0,
       "model_id": "aaf6a5e0e89d45e3831e649c39a92578"
      }
     },
     "metadata": {}
    },
    {
     "output_type": "display_data",
     "data": {
      "text/plain": [
       "tokenizer.json:   0%|          | 0.00/1.36M [00:00<?, ?B/s]"
      ],
      "application/vnd.jupyter.widget-view+json": {
       "version_major": 2,
       "version_minor": 0,
       "model_id": "5589096655af4b97adc084658fca5dfb"
      }
     },
     "metadata": {}
    },
    {
     "output_type": "stream",
     "name": "stderr",
     "text": [
      "Device set to use cuda:0\n"
     ]
    }
   ]
  },
  {
   "cell_type": "code",
   "source": [
    "article_1 = ds['train'][1]['dialogue']"
   ],
   "metadata": {
    "id": "4_ZibLR1SfMD"
   },
   "execution_count": 8,
   "outputs": []
  },
  {
   "cell_type": "code",
   "source": [
    "pipe(article_1, max_length=20, min_length=10, do_sample=False)"
   ],
   "metadata": {
    "colab": {
     "base_uri": "https://localhost:8080/"
    },
    "id": "mQAL1wNQS9Eh",
    "outputId": "fc92c943-9976-412d-c4a7-15b8998845e2"
   },
   "execution_count": 9,
   "outputs": [
    {
     "output_type": "execute_result",
     "data": {
      "text/plain": [
       "[{'summary_text': 'Ricky has received his Polio, Tetanus and Hepatitis B shots.'}]"
      ]
     },
     "metadata": {},
     "execution_count": 9
    }
   ]
  },
  {
   "cell_type": "markdown",
   "source": [
    "**with fine - tuning**"
   ],
   "metadata": {
    "id": "f-N8Hl1vTe-O"
   }
  },
  {
   "cell_type": "code",
   "source": [
    "from transformers import AutoTokenizer, AutoModelForSeq2SeqLM\n",
    "\n",
    "tokenizer = AutoTokenizer.from_pretrained(\"facebook/bart-large-cnn\")\n",
    "model = AutoModelForSeq2SeqLM.from_pretrained(\"facebook/bart-large-cnn\")"
   ],
   "metadata": {
    "id": "gJm6SVRYTMXR"
   },
   "execution_count": 10,
   "outputs": []
  },
  {
   "cell_type": "code",
   "source": [
    "def preprocess_function(batch):\n",
    "  source = batch['dialogue']\n",
    "  target = batch['summary']\n",
    "  source_ids = tokenizer(source, truncation=True, padding='max_length', max_length=128)\n",
    "  target_ids = tokenizer(target, truncation=True, padding='max_length', max_length=128)\n",
    "\n",
    "  labels = target_ids['input_ids']\n",
    "  labels = [[(label if label != tokenizer.pad_token_id else -100) for label in labels_example] for labels_example in labels]\n",
    "\n",
    "  return {\n",
    "    'input_ids': source_ids['input_ids'],\n",
    "    'attention_mask': source_ids['attention_mask'],\n",
    "    'labels': labels\n",
    "  }"
   ],
   "metadata": {
    "id": "2jFoE8zeUMSq"
   },
   "execution_count": 11,
   "outputs": []
  },
  {
   "cell_type": "code",
   "source": [
    "df_source = ds.map(preprocess_function, batched=True)"
   ],
   "metadata": {
    "colab": {
     "base_uri": "https://localhost:8080/",
     "height": 113,
     "referenced_widgets": [
      "f30bfd0ce763455cbfff18349f99d8de",
      "a5a3460681754a039a385602e726da74",
      "b8af2785493a43e382e3260313e1c6a4",
      "77406b23f5524640b653588a6e0bd830",
      "5cfa7d6438f8408ea68411a3e1b155ca",
      "0cf740e669e14ae499c2d8a8ecc06830",
      "849c5688b6f740d89d94318b957738fa",
      "8802d9bf144047f388d611cab6a4115e",
      "b677f677464f4b96b7795fa8bb4f8642",
      "5112f414ea8d4d47a964e538f7f76b5f",
      "05098d999793418d9f08924d55f21733",
      "0797b78a8fbf484e8e99855f9a2dfa93",
      "eba716dbbcbf4490abc5da16388eb7be",
      "b14a4444357a479796cb7d85ea3b6dba",
      "3279a791e1174c97b1cf546a485a5ba3",
      "1d7eab6cfb4e4be7a6fd6863a1eb06ac",
      "dd311f7564b34c91b26c604a41955de0",
      "eca7c7eba33b4c0f935c34fe66e8e7ab",
      "1ebcbaa06d0a4bb8a5a143bde477bab3",
      "bcd32185d25a440aa565c2ec40fc5ee2",
      "65ed87021fcd4c76b09fc7ca5020091b",
      "3e2c65316fc54b4f847664e01bf5f18a",
      "a225fb597a5a4c77851b0193ae0e8c58",
      "b714006fd8a34a528d547882034e9e1b",
      "9a8c5f16a62d4996a1b67148d9cd1808",
      "1b979798aa4944a1be557f6b77f42b38",
      "a3bdeaca44de480587d9df367209bdd5",
      "9b347a344949486e943328d2a078319d",
      "627cb1ada04f4bdeb4cd0bbc3773852a",
      "f7e90b948f3d4eff80d524ecac1f6def",
      "c6b081f61e9543a9b9cf87fc127a8ca7",
      "c783b2cf102e449fbb759380f22b6f80",
      "94d3f8004e9f4aa7a33a1427444a3492"
     ]
    },
    "id": "ixvnT7G5ZvPJ",
    "outputId": "847b2e18-dd57-4383-a50a-e82d71cc9b2a"
   },
   "execution_count": 12,
   "outputs": [
    {
     "output_type": "display_data",
     "data": {
      "text/plain": [
       "Map:   0%|          | 0/12460 [00:00<?, ? examples/s]"
      ],
      "application/vnd.jupyter.widget-view+json": {
       "version_major": 2,
       "version_minor": 0,
       "model_id": "f30bfd0ce763455cbfff18349f99d8de"
      }
     },
     "metadata": {}
    },
    {
     "output_type": "display_data",
     "data": {
      "text/plain": [
       "Map:   0%|          | 0/500 [00:00<?, ? examples/s]"
      ],
      "application/vnd.jupyter.widget-view+json": {
       "version_major": 2,
       "version_minor": 0,
       "model_id": "0797b78a8fbf484e8e99855f9a2dfa93"
      }
     },
     "metadata": {}
    },
    {
     "output_type": "display_data",
     "data": {
      "text/plain": [
       "Map:   0%|          | 0/1500 [00:00<?, ? examples/s]"
      ],
      "application/vnd.jupyter.widget-view+json": {
       "version_major": 2,
       "version_minor": 0,
       "model_id": "a225fb597a5a4c77851b0193ae0e8c58"
      }
     },
     "metadata": {}
    }
   ]
  },
  {
   "cell_type": "code",
   "source": [
    "from transformers import TrainingArguments, Trainer\n",
    "\n",
    "training_args = TrainingArguments(\n",
    "    output_dir='/content',\n",
    "    num_train_epochs=1,\n",
    "    per_device_train_batch_size=4,\n",
    "    remove_unused_columns=True,\n",
    "    run_name=\"my_unique_run_name\",\n",
    "    report_to=\"none\"\n",
    ")"
   ],
   "metadata": {
    "id": "-ZS6C4f-Z37D"
   },
   "execution_count": 21,
   "outputs": []
  },
  {
   "cell_type": "code",
   "source": [
    "trainer = Trainer(\n",
    "    model=model,\n",
    "    args=training_args,\n",
    "    train_dataset=df_source['train'],\n",
    "    eval_dataset=df_source['test']\n",
    ")"
   ],
   "metadata": {
    "id": "nfcAk4I6cdob"
   },
   "execution_count": 22,
   "outputs": []
  },
  {
   "cell_type": "code",
   "source": [
    "import os\n",
    "os.environ[\"WANDB_DISABLED\"] = \"true\""
   ],
   "metadata": {
    "id": "N-ut78btmx7t"
   },
   "execution_count": 23,
   "outputs": []
  },
  {
   "cell_type": "code",
   "source": [
    "trainer.train()"
   ],
   "metadata": {
    "colab": {
     "base_uri": "https://localhost:8080/",
     "height": 387
    },
    "id": "D-neM9ABdmco",
    "outputId": "ff505224-6dde-4686-80c5-3dc2db2b5066"
   },
   "execution_count": 24,
   "outputs": [
    {
     "output_type": "display_data",
     "data": {
      "text/plain": [
       "<IPython.core.display.HTML object>"
      ],
      "text/html": [
       "\n",
       "    <div>\n",
       "      \n",
       "      <progress value='3115' max='3115' style='width:300px; height:20px; vertical-align: middle;'></progress>\n",
       "      [3115/3115 39:41, Epoch 1/1]\n",
       "    </div>\n",
       "    <table border=\"1\" class=\"dataframe\">\n",
       "  <thead>\n",
       " <tr style=\"text-align: left;\">\n",
       "      <th>Step</th>\n",
       "      <th>Training Loss</th>\n",
       "    </tr>\n",
       "  </thead>\n",
       "  <tbody>\n",
       "    <tr>\n",
       "      <td>500</td>\n",
       "      <td>0.920400</td>\n",
       "    </tr>\n",
       "    <tr>\n",
       "      <td>1000</td>\n",
       "      <td>1.574700</td>\n",
       "    </tr>\n",
       "    <tr>\n",
       "      <td>1500</td>\n",
       "      <td>1.503500</td>\n",
       "    </tr>\n",
       "    <tr>\n",
       "      <td>2000</td>\n",
       "      <td>1.462900</td>\n",
       "    </tr>\n",
       "    <tr>\n",
       "      <td>2500</td>\n",
       "      <td>1.407600</td>\n",
       "    </tr>\n",
       "    <tr>\n",
       "      <td>3000</td>\n",
       "      <td>1.379700</td>\n",
       "    </tr>\n",
       "  </tbody>\n",
       "</table><p>"
      ]
     },
     "metadata": {}
    },
    {
     "output_type": "stream",
     "name": "stderr",
     "text": [
      "/usr/local/lib/python3.11/dist-packages/transformers/modeling_utils.py:3339: UserWarning: Moving the following attributes in the config to the generation config: {'max_length': 142, 'min_length': 56, 'early_stopping': True, 'num_beams': 4, 'length_penalty': 2.0, 'no_repeat_ngram_size': 3, 'forced_bos_token_id': 0}. You are seeing this warning because you've set generation parameters in the model config, as opposed to in the generation config.\n",
      "  warnings.warn(\n"
     ]
    },
    {
     "output_type": "execute_result",
     "data": {
      "text/plain": [
       "TrainOutput(global_step=3115, training_loss=1.373433635093236, metrics={'train_runtime': 2381.6491, 'train_samples_per_second': 5.232, 'train_steps_per_second': 1.308, 'total_flos': 3375265417789440.0, 'train_loss': 1.373433635093236, 'epoch': 1.0})"
      ]
     },
     "metadata": {},
     "execution_count": 24
    }
   ]
  },
  {
   "cell_type": "code",
   "source": [
    "eval_results = trainer.evaluate()"
   ],
   "metadata": {
    "colab": {
     "base_uri": "https://localhost:8080/",
     "height": 37
    },
    "id": "0bEf8T5Od729",
    "outputId": "e048e50b-89e9-4977-c6fb-b3adaa3f5c1d"
   },
   "execution_count": 25,
   "outputs": [
    {
     "output_type": "display_data",
     "data": {
      "text/plain": [
       "<IPython.core.display.HTML object>"
      ],
      "text/html": [
       "\n",
       "    <div>\n",
       "      \n",
       "      <progress value='188' max='188' style='width:300px; height:20px; vertical-align: middle;'></progress>\n",
       "      [188/188 00:50]\n",
       "    </div>\n",
       "    "
      ]
     },
     "metadata": {}
    }
   ]
  },
  {
   "cell_type": "markdown",
   "source": [
    "**saving the model**"
   ],
   "metadata": {
    "id": "HkGcv6SxzX71"
   }
  },
  {
   "cell_type": "code",
   "source": [
    "model.save_pretrained('/content/model_directory')\n",
    "tokenizer.save_pretrained('/content/model_directory')"
   ],
   "metadata": {
    "colab": {
     "base_uri": "https://localhost:8080/"
    },
    "id": "Y0uwPOHeyUQN",
    "outputId": "3479c2d9-ac85-418a-cd49-92054d42fd9a"
   },
   "execution_count": 26,
   "outputs": [
    {
     "output_type": "execute_result",
     "data": {
      "text/plain": [
       "('/content/model_directory/tokenizer_config.json',\n",
       " '/content/model_directory/special_tokens_map.json',\n",
       " '/content/model_directory/vocab.json',\n",
       " '/content/model_directory/merges.txt',\n",
       " '/content/model_directory/added_tokens.json',\n",
       " '/content/model_directory/tokenizer.json')"
      ]
     },
     "metadata": {},
     "execution_count": 26
    }
   ]
  },
  {
   "cell_type": "code",
   "source": [
    "tokenizer = AutoTokenizer.from_pretrained('/content/model_directory')\n",
    "model = AutoModelForSeq2SeqLM.from_pretrained('/content/model_directory')"
   ],
   "metadata": {
    "colab": {
     "base_uri": "https://localhost:8080/"
    },
    "id": "OrMxFo3hzIS9",
    "outputId": "5df02dc7-52cf-4f78-b73e-e7b11c2a3665"
   },
   "execution_count": 27,
   "outputs": [
    {
     "output_type": "stream",
     "name": "stderr",
     "text": [
      "/usr/local/lib/python3.11/dist-packages/transformers/models/bart/configuration_bart.py:176: UserWarning: Please make sure the config includes `forced_bos_token_id=0` in future versions. The config can simply be saved and uploaded again to be fixed.\n",
      "  warnings.warn(\n"
     ]
    }
   ]
  },
  {
   "cell_type": "code",
   "source": [
    "from transformers import GenerationConfig\n",
    "\n",
    "generation_config = GenerationConfig(\n",
    "    max_length=150,\n",
    "    min_length=40,\n",
    "    length_penalty=2.0,\n",
    "    num_beams=4,\n",
    "    early_stopping=True,\n",
    "    pad_token_id=tokenizer.pad_token_id,\n",
    "    eos_token_id=tokenizer.eos_token_id,\n",
    "    bos_token_id=tokenizer.bos_token_id,\n",
    "    decoder_start_token_id=tokenizer.bos_token_id,  # safer to use bos_token_id here\n",
    "    forced_bos_token_id=tokenizer.bos_token_id,\n",
    "    forced_eos_token_id=tokenizer.eos_token_id\n",
    ")\n"
   ],
   "metadata": {
    "id": "qpmx-md12HH7"
   },
   "execution_count": 42,
   "outputs": []
  },
  {
   "cell_type": "code",
   "source": [
    "def summarize(text):\n",
    "    inputs = tokenizer(text, return_tensors='pt', max_length=1024, truncation=True, padding=True)\n",
    "    summary_ids = model.generate(\n",
    "        inputs['input_ids'],\n",
    "        generation_config=generation_config\n",
    "    )\n",
    "    return tokenizer.decode(summary_ids[0], skip_special_tokens=True)"
   ],
   "metadata": {
    "id": "V6HbNn9Xztin"
   },
   "execution_count": 47,
   "outputs": []
  },
  {
   "cell_type": "code",
   "source": [
    "text = \"The Kutch conflict was a brief but significant military confrontation between India and Pakistan in 1965, centered around the Rann of Kutch, a disputed region located in the western part of India.Operation Desert Hawk was the codename for the military operation launched by the Pakistan Army in this area. At the time, the Rann of Kutch was under Indian control as per the long-standing status quo, but its boundary remained one of the few unresolved territorial disputes stemming from the 1947 Partition of India.\""
   ],
   "metadata": {
    "id": "MHfa54gZ0ZwP"
   },
   "execution_count": 51,
   "outputs": []
  },
  {
   "cell_type": "code",
   "source": [
    "text"
   ],
   "metadata": {
    "colab": {
     "base_uri": "https://localhost:8080/",
     "height": 140
    },
    "id": "LxClLtAJ014j",
    "outputId": "4959aed2-f2b4-412f-a933-837fccf31dfa"
   },
   "execution_count": 52,
   "outputs": [
    {
     "output_type": "execute_result",
     "data": {
      "text/plain": [
       "'The Kutch conflict was a brief but significant military confrontation between India and Pakistan in 1965, centered around the Rann of Kutch, a disputed region located in the western part of India.Operation Desert Hawk was the codename for the military operation launched by the Pakistan Army in this area. At the time, the Rann of Kutch was under Indian control as per the long-standing status quo, but its boundary remained one of the few unresolved territorial disputes stemming from the 1947 Partition of India.'"
      ],
      "application/vnd.google.colaboratory.intrinsic+json": {
       "type": "string"
      }
     },
     "metadata": {},
     "execution_count": 52
    }
   ]
  },
  {
   "cell_type": "code",
   "source": [
    "summarize(text)"
   ],
   "metadata": {
    "colab": {
     "base_uri": "https://localhost:8080/",
     "height": 53
    },
    "id": "IEFdO1zb03UY",
    "outputId": "be448226-3521-4406-bdba-ada5d446737c"
   },
   "execution_count": 53,
   "outputs": [
    {
     "output_type": "execute_result",
     "data": {
      "text/plain": [
       "' the Rann of Kutch was a disputed by India and Pakistan in 1965, a disputed region located in the western part of India in the western part of India in 1965.'"
      ],
      "application/vnd.google.colaboratory.intrinsic+json": {
       "type": "string"
      }
     },
     "metadata": {},
     "execution_count": 53
    }
   ]
  }
 ]
}